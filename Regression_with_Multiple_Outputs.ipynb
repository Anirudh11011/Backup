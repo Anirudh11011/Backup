{
  "nbformat": 4,
  "nbformat_minor": 0,
  "metadata": {
    "colab": {
      "provenance": []
    },
    "kernelspec": {
      "name": "python3",
      "display_name": "Python 3"
    },
    "language_info": {
      "name": "python"
    }
  },
  "cells": [
    {
      "cell_type": "markdown",
      "source": [
        "# ***1.6 Regression with Multiple Outputs***"
      ],
      "metadata": {
        "id": "QrzyNPuQlvE5"
      }
    },
    {
      "cell_type": "code",
      "execution_count": 3,
      "metadata": {
        "id": "Ecc89tmLAbth"
      },
      "outputs": [],
      "source": [
        "import numpy as np\n",
        "import matplotlib.pyplot as plt\n",
        "import json\n",
        "\n",
        "class LinearRegression2:\n",
        "    def __init__(self, batch_size=32, regularization=0, max_epochs=100, patience=3):\n",
        "        self.batch_size = batch_size\n",
        "        self.regularization = regularization\n",
        "        self.max_epochs = max_epochs\n",
        "        self.patience = patience\n",
        "        self.weights = None\n",
        "        self.bias = None\n",
        "        self.Loss_History = []\n",
        "\n",
        "    def fit(self, X, y, batch_size=32, regularization=0, max_epochs=100, patience=3):\n",
        "        self.batch_size = batch_size\n",
        "        self.regularization = regularization\n",
        "        self.max_epochs = max_epochs\n",
        "        self.patience = patience\n",
        "        self.Loss_History = []\n",
        "\n",
        "        samples, features = X.shape\n",
        "        outputs = y.shape[1]\n",
        "\n",
        "        self.weights = np.zeros((features, outputs))\n",
        "        self.bias = np.zeros(outputs)\n",
        "\n",
        "        Size_of_validation = int(0.1 * samples)\n",
        "        train_X = X[:-Size_of_validation]\n",
        "        train_y = y[:-Size_of_validation]\n",
        "\n",
        "        val_X   = X[-Size_of_validation:]\n",
        "        val_y   = y[-Size_of_validation:]\n",
        "\n",
        "        best_weights = self.weights.copy()\n",
        "        best_bias = self.bias.copy()\n",
        "        best_val_loss = float('inf')\n",
        "        count = 0\n",
        "\n",
        "        def Loss_Function(X, y):\n",
        "            predictions = np.dot(X, self.weights) + self.bias\n",
        "            loss = np.mean((predictions - y) ** 2) + (self.regularization * np.sum(self.weights ** 2))\n",
        "            return loss\n",
        "\n",
        "        for epoch in range(max_epochs):\n",
        "            indices = np.arange(len(train_X))\n",
        "            np.random.shuffle(indices)\n",
        "            train_X = train_X[indices]\n",
        "            train_y = train_y[indices]\n",
        "            for start in range(0, len(train_X), batch_size):\n",
        "                end = start + batch_size\n",
        "                X_batch = train_X[start:end]\n",
        "                y_batch = train_y[start:end]\n",
        "\n",
        "                predictions = np.dot(X_batch, self.weights) + self.bias\n",
        "                errors = predictions - y_batch\n",
        "\n",
        "                grad_w = (2 / len(X_batch)) * (np.dot(X_batch.T, errors) + regularization * self.weights)\n",
        "                grad_b = (2 / len(X_batch)) * np.sum(errors, axis=0)\n",
        "\n",
        "                self.weights -= 0.01 * grad_w  # learning rate = 0.01\n",
        "                self.bias -= 0.01 * grad_b\n",
        "\n",
        "                loss = Loss_Function(train_X, train_y)\n",
        "                self.Loss_History.append(loss)\n",
        "\n",
        "            val_loss = Loss_Function(val_X, val_y)\n",
        "            if val_loss < best_val_loss:\n",
        "                best_val_loss = val_loss\n",
        "                best_weights = self.weights.copy()\n",
        "                best_bias = self.bias.copy()\n",
        "                count = 0\n",
        "            else:\n",
        "                count += 1\n",
        "\n",
        "            if count >= patience:\n",
        "                print(f\"Early stopping at epoch {epoch+1}\")\n",
        "                break\n",
        "\n",
        "        self.weights = best_weights\n",
        "        self.bias = best_bias\n",
        "        self.plot_loss()\n",
        "\n",
        "    def predict(self, X):\n",
        "        return np.dot(X, self.weights) + self.bias\n",
        "\n",
        "    def score(self, X, y):\n",
        "        predictions = self.predict(X)\n",
        "        mse = np.mean((predictions - y) ** 2)\n",
        "        return mse\n",
        "\n",
        "    def save(self, file_path):\n",
        "        model_params = {\n",
        "            'weights': self.weights.tolist(),\n",
        "            'bias': self.bias.tolist(),\n",
        "            'batch_size': self.batch_size,\n",
        "            'regularization': self.regularization,\n",
        "            'max_epochs': self.max_epochs,\n",
        "            'patience': self.patience\n",
        "        }\n",
        "        with open(file_path, 'w') as file:\n",
        "            json.dump(model_params, file)\n",
        "        print(f\"Model parameters saved to {file_path}\")\n",
        "\n",
        "    def load(self, file_path):\n",
        "        with open(file_path, 'r') as file:\n",
        "            model_params = json.load(file)\n",
        "        self.weights = np.array(model_params['weights'])\n",
        "        self.bias = np.array(model_params['bias'])\n",
        "        self.batch_size = model_params['batch_size']\n",
        "        self.regularization = model_params['regularization']\n",
        "        self.max_epochs = model_params['max_epochs']\n",
        "        self.patience = model_params['patience']\n",
        "        print(f\"Model parameters loaded from {file_path}\")\n",
        "\n",
        "    def plot_loss(self):\n",
        "        plt.figure(figsize=(8, 5))\n",
        "        plt.plot(self.Loss_History, label=\"Training Loss\", color='blue')\n",
        "        plt.xlabel(\"Step Number\")\n",
        "        plt.ylabel(\"Loss\")\n",
        "        plt.title(\"Loss Curve\")\n",
        "        plt.legend()\n",
        "        plt.grid(True)\n",
        "        plt.savefig(\"loss_curve.png\")\n",
        "        print(\"Loss curve saved as 'loss_curve.png'\")\n",
        "        plt.show()\n"
      ]
    },
    {
      "cell_type": "markdown",
      "source": [
        "#  ***Preparing the Data***"
      ],
      "metadata": {
        "id": "DC-dZkbCpatf"
      }
    },
    {
      "cell_type": "code",
      "source": [
        "import numpy as np\n",
        "import json\n",
        "from sklearn.model_selection import train_test_split\n",
        "from sklearn.datasets import load_iris\n",
        "\n",
        "data = load_iris()\n",
        "X = data.data"
      ],
      "metadata": {
        "id": "-4EVfe9FBSKv"
      },
      "execution_count": 4,
      "outputs": []
    },
    {
      "cell_type": "markdown",
      "source": [
        "# ***Training***"
      ],
      "metadata": {
        "id": "BPCkjzJGnCbl"
      }
    },
    {
      "cell_type": "code",
      "source": [
        "from sklearn.model_selection import train_test_split\n",
        "\n",
        "# Sepal length and width as input\n",
        "X_model = X[:, :2]\n",
        "\n",
        "# petal length and width as output\n",
        "y_model = X[:, 2:4]\n",
        "\n",
        "\n",
        "\n",
        "X_train, X_test, y_train, y_test = train_test_split(X_model, y_model, test_size=0.1, stratify=data.target)\n",
        "\n",
        "\n",
        "model = LinearRegression2()\n",
        "model.fit(X_train, y_train)\n",
        "\n",
        "model.save(\"multiple outputs model.json\")"
      ],
      "metadata": {
        "colab": {
          "base_uri": "https://localhost:8080/",
          "height": 539
        },
        "id": "zBv7DwTlApco",
        "outputId": "fec39483-4a86-49f8-c0cd-897cef8a2606"
      },
      "execution_count": 7,
      "outputs": [
        {
          "output_type": "stream",
          "name": "stdout",
          "text": [
            "Early stopping at epoch 36\n",
            "Loss curve saved as 'loss_curve.png'\n"
          ]
        },
        {
          "output_type": "display_data",
          "data": {
            "text/plain": [
              "<Figure size 800x500 with 1 Axes>"
            ],
            "image/png": "[encoded data removed]"
          },
          "metadata": {}
        },
        {
          "output_type": "stream",
          "name": "stdout",
          "text": [
            "Model parameters saved to multiple outputs model.json\n"
          ]
        }
      ]
    },
    {
      "cell_type": "markdown",
      "source": [
        "# ***Testing***"
      ],
      "metadata": {
        "id": "7CEAvQ5dnX_r"
      }
    },
    {
      "cell_type": "code",
      "source": [
        "model = LinearRegression2()\n",
        "model.load(\"multiple outputs model.json\")  # Ensure correct filename\n",
        "predictions = model.predict(X_test)\n",
        "mse = model.score(X_test, y_test)\n",
        "print(f\"Predictions (First 5 Samples):\\n{predictions[:5]}\")\n",
        "print(f\"Actual Values (First 5 Samples):\\n{y_test[:5]}\")\n",
        "print(f\"Mean Squared Error is: {mse}\")\n",
        "\n",
        "\n"
      ],
      "metadata": {
        "colab": {
          "base_uri": "https://localhost:8080/"
        },
        "id": "HCictv0hAxrk",
        "outputId": "3f800498-f91d-4045-8894-8431892d7f23"
      },
      "execution_count": 8,
      "outputs": [
        {
          "output_type": "stream",
          "name": "stdout",
          "text": [
            "Model parameters loaded from multiple outputs model.json\n",
            "Predictions (First 5 Samples):\n",
            "[[4.02687132 1.29093164]\n",
            " [4.85485829 1.6450515 ]\n",
            " [2.617256   0.75671782]\n",
            " [2.63961306 0.75909417]\n",
            " [2.16977002 0.59088197]]\n",
            "Actual Values (First 5 Samples):\n",
            "[[4.6 1.4]\n",
            " [4.5 1.5]\n",
            " [1.2 0.2]\n",
            " [1.7 0.5]\n",
            " [1.4 0.2]]\n",
            "Mean Squared Error is: 0.532171570237477\n"
          ]
        }
      ]
    }
  ]
}